{
 "cells": [
  {
   "cell_type": "code",
   "execution_count": 6,
   "metadata": {},
   "outputs": [],
   "source": [
    "import cv2\n",
    "import numpy as np\n",
    "import pandas\n",
    "import glob\n",
    "import matplotlib.pyplot as plt\n",
    "import os"
   ]
  },
  {
   "cell_type": "code",
   "execution_count": 7,
   "metadata": {},
   "outputs": [],
   "source": [
    "%matplotlib inline"
   ]
  },
  {
   "cell_type": "code",
   "execution_count": 700,
   "metadata": {
    "scrolled": true
   },
   "outputs": [
    {
     "data": {
      "text/plain": [
       "['.\\\\0\\\\ScreenShot00003.jpg',\n",
       " '.\\\\0\\\\ScreenShot00004.jpg',\n",
       " '.\\\\0\\\\ScreenShot00005.jpg',\n",
       " '.\\\\0\\\\ScreenShot00006.jpg',\n",
       " '.\\\\0\\\\ScreenShot00008.jpg',\n",
       " '.\\\\0\\\\ScreenShot00009.jpg',\n",
       " '.\\\\0\\\\ScreenShot00011.jpg',\n",
       " '.\\\\0\\\\ScreenShot00012.jpg',\n",
       " '.\\\\0\\\\ScreenShot00014.jpg',\n",
       " '.\\\\0\\\\ScreenShot00017.jpg',\n",
       " '.\\\\0\\\\ScreenShot00018.jpg',\n",
       " '.\\\\0\\\\ScreenShot00019.jpg',\n",
       " '.\\\\0\\\\ScreenShot00022.jpg',\n",
       " '.\\\\0\\\\ScreenShot00026.jpg',\n",
       " '.\\\\0\\\\ScreenShot00028.jpg',\n",
       " '.\\\\0\\\\ScreenShot00029.jpg',\n",
       " '.\\\\0\\\\ScreenShot00051.jpg',\n",
       " '.\\\\0\\\\ScreenShot00061.jpg',\n",
       " '.\\\\0\\\\ScreenShot00066.jpg',\n",
       " '.\\\\0\\\\ScreenShot00068.jpg',\n",
       " '.\\\\0\\\\ScreenShot00104.jpg',\n",
       " '.\\\\0\\\\ScreenShot00112.jpg',\n",
       " '.\\\\0\\\\ScreenShot00132.jpg',\n",
       " '.\\\\0\\\\ScreenShot00136.jpg',\n",
       " '.\\\\0\\\\ScreenShot00139.jpg',\n",
       " '.\\\\0\\\\ScreenShot00143.jpg',\n",
       " '.\\\\0\\\\ScreenShot00150.jpg',\n",
       " '.\\\\0\\\\ScreenShot00154.jpg',\n",
       " '.\\\\0\\\\ScreenShot00155.jpg',\n",
       " '.\\\\0\\\\ScreenShot00157.jpg',\n",
       " '.\\\\0\\\\ScreenShot00168.jpg',\n",
       " '.\\\\0\\\\ScreenShot00169.jpg',\n",
       " '.\\\\0\\\\ScreenShot00173.jpg',\n",
       " '.\\\\0\\\\ScreenShot00174.jpg',\n",
       " '.\\\\0\\\\ScreenShot00176.jpg',\n",
       " '.\\\\0\\\\ScreenShot00177.jpg',\n",
       " '.\\\\0\\\\ScreenShot00185.jpg',\n",
       " '.\\\\0\\\\ScreenShot00187.jpg',\n",
       " '.\\\\0\\\\ScreenShot00194.jpg',\n",
       " '.\\\\0\\\\ScreenShot00199.jpg',\n",
       " '.\\\\0\\\\ScreenShot00201.jpg',\n",
       " '.\\\\0\\\\ScreenShot00205.jpg',\n",
       " '.\\\\0\\\\ScreenShot00208.jpg',\n",
       " '.\\\\0\\\\ScreenShot00209.jpg',\n",
       " '.\\\\0\\\\ScreenShot00210.jpg',\n",
       " '.\\\\0\\\\ScreenShot00211.jpg',\n",
       " '.\\\\0\\\\ScreenShot00214.jpg',\n",
       " '.\\\\0\\\\ScreenShot00215.jpg',\n",
       " '.\\\\0\\\\ScreenShot00216.jpg',\n",
       " '.\\\\0\\\\ScreenShot00219.jpg',\n",
       " '.\\\\0\\\\ScreenShot00224.jpg',\n",
       " '.\\\\0\\\\ScreenShot00225.jpg',\n",
       " '.\\\\0\\\\ScreenShot00229.jpg',\n",
       " '.\\\\0\\\\ScreenShot00232.jpg',\n",
       " '.\\\\0\\\\ScreenShot00236.jpg',\n",
       " '.\\\\0\\\\ScreenShot00237.jpg',\n",
       " '.\\\\0\\\\ScreenShot00241.jpg',\n",
       " '.\\\\0\\\\ScreenShot00245.jpg',\n",
       " '.\\\\0\\\\ScreenShot00251.jpg',\n",
       " '.\\\\0\\\\ScreenShot00255.jpg',\n",
       " '.\\\\0\\\\ScreenShot00256.jpg',\n",
       " '.\\\\0\\\\ScreenShot00263.jpg',\n",
       " '.\\\\0\\\\ScreenShot00273.jpg',\n",
       " '.\\\\0\\\\ScreenShot00277.jpg',\n",
       " '.\\\\0\\\\ScreenShot00279.jpg',\n",
       " '.\\\\0\\\\ScreenShot00282.jpg',\n",
       " '.\\\\0\\\\ScreenShot00283.jpg',\n",
       " '.\\\\0\\\\ScreenShot00284.jpg',\n",
       " '.\\\\0\\\\ScreenShot00289.jpg',\n",
       " '.\\\\0\\\\ScreenShot00290.jpg',\n",
       " '.\\\\0\\\\ScreenShot00295.jpg',\n",
       " '.\\\\0\\\\ScreenShot00297.jpg',\n",
       " '.\\\\0\\\\ScreenShot00301.jpg',\n",
       " '.\\\\0\\\\ScreenShot00302.jpg',\n",
       " '.\\\\0\\\\ScreenShot00303.jpg',\n",
       " '.\\\\0\\\\ScreenShot00304.jpg',\n",
       " '.\\\\0\\\\ScreenShot00305.jpg',\n",
       " '.\\\\0\\\\ScreenShot00306.jpg',\n",
       " '.\\\\0\\\\ScreenShot00307.jpg',\n",
       " '.\\\\0\\\\ScreenShot00308.jpg',\n",
       " '.\\\\0\\\\ScreenShot00313.jpg',\n",
       " '.\\\\0\\\\ScreenShot00314.jpg',\n",
       " '.\\\\0\\\\ScreenShot00316.jpg',\n",
       " '.\\\\0\\\\ScreenShot00324.jpg',\n",
       " '.\\\\0\\\\ScreenShot00337.jpg',\n",
       " '.\\\\0\\\\ScreenShot00339.jpg',\n",
       " '.\\\\0\\\\ScreenShot00340.jpg',\n",
       " '.\\\\0\\\\ScreenShot00345.jpg',\n",
       " '.\\\\0\\\\ScreenShot00346.jpg',\n",
       " '.\\\\0\\\\ScreenShot00349.jpg',\n",
       " '.\\\\0\\\\ScreenShot00357.jpg',\n",
       " '.\\\\0\\\\ScreenShot00360.jpg',\n",
       " '.\\\\0\\\\ScreenShot00365.jpg',\n",
       " '.\\\\0\\\\ScreenShot00369.jpg',\n",
       " '.\\\\0\\\\ScreenShot00376.jpg',\n",
       " '.\\\\0\\\\ScreenShot00377.jpg',\n",
       " '.\\\\0\\\\ScreenShot00378.jpg',\n",
       " '.\\\\0\\\\ScreenShot00379.jpg',\n",
       " '.\\\\0\\\\ScreenShot00387.jpg',\n",
       " '.\\\\0\\\\ScreenShot00388.jpg',\n",
       " '.\\\\0\\\\ScreenShot00391.jpg',\n",
       " '.\\\\0\\\\ScreenShot00392.jpg',\n",
       " '.\\\\0\\\\ScreenShot00393.jpg',\n",
       " '.\\\\0\\\\ScreenShot00394.jpg',\n",
       " '.\\\\0\\\\ScreenShot00405.jpg',\n",
       " '.\\\\0\\\\ScreenShot00406.jpg',\n",
       " '.\\\\0\\\\ScreenShot00409.jpg',\n",
       " '.\\\\0\\\\ScreenShot00410.jpg',\n",
       " '.\\\\0\\\\ScreenShot00411.jpg',\n",
       " '.\\\\0\\\\ScreenShot00412.jpg',\n",
       " '.\\\\0\\\\ScreenShot00414.jpg',\n",
       " '.\\\\0\\\\ScreenShot00416.jpg',\n",
       " '.\\\\0\\\\ScreenShot00417.jpg',\n",
       " '.\\\\0\\\\ScreenShot00421.jpg',\n",
       " '.\\\\0\\\\ScreenShot00424.jpg',\n",
       " '.\\\\0\\\\ScreenShot00425.jpg',\n",
       " '.\\\\0\\\\ScreenShot00426.jpg',\n",
       " '.\\\\0\\\\ScreenShot00427.jpg',\n",
       " '.\\\\0\\\\ScreenShot00430.jpg',\n",
       " '.\\\\0\\\\ScreenShot00431.jpg',\n",
       " '.\\\\0\\\\ScreenShot00432.jpg',\n",
       " '.\\\\0\\\\ScreenShot00434.jpg',\n",
       " '.\\\\0\\\\ScreenShot00437.jpg',\n",
       " '.\\\\0\\\\ScreenShot00440.jpg',\n",
       " '.\\\\0\\\\ScreenShot00442.jpg',\n",
       " '.\\\\0\\\\ScreenShot00443.jpg',\n",
       " '.\\\\0\\\\ScreenShot00447.jpg',\n",
       " '.\\\\0\\\\ScreenShot00448.jpg',\n",
       " '.\\\\0\\\\ScreenShot00449.jpg',\n",
       " '.\\\\0\\\\ScreenShot00450.jpg',\n",
       " '.\\\\0\\\\ScreenShot00451.jpg',\n",
       " '.\\\\0\\\\ScreenShot00452.jpg',\n",
       " '.\\\\0\\\\ScreenShot00457.jpg',\n",
       " '.\\\\0\\\\ScreenShot00459.jpg',\n",
       " '.\\\\0\\\\ScreenShot00461.jpg',\n",
       " '.\\\\0\\\\ScreenShot00469.jpg',\n",
       " '.\\\\0\\\\ScreenShot00470.jpg',\n",
       " '.\\\\0\\\\ScreenShot00474.jpg',\n",
       " '.\\\\0\\\\ScreenShot00475.jpg',\n",
       " '.\\\\0\\\\ScreenShot00477.jpg',\n",
       " '.\\\\0\\\\ScreenShot00478.jpg',\n",
       " '.\\\\0\\\\ScreenShot00479.jpg',\n",
       " '.\\\\0\\\\ScreenShot00481.jpg',\n",
       " '.\\\\0\\\\ScreenShot00484.jpg',\n",
       " '.\\\\0\\\\ScreenShot00485.jpg',\n",
       " '.\\\\0\\\\ScreenShot00488.jpg',\n",
       " '.\\\\0\\\\ScreenShot00491.jpg',\n",
       " '.\\\\0\\\\ScreenShot00493.jpg',\n",
       " '.\\\\0\\\\ScreenShot00496.jpg',\n",
       " '.\\\\0\\\\ScreenShot00511.jpg',\n",
       " '.\\\\0\\\\ScreenShot00512.jpg',\n",
       " '.\\\\0\\\\ScreenShot00513.jpg',\n",
       " '.\\\\0\\\\ScreenShot00515.jpg',\n",
       " '.\\\\0\\\\ScreenShot00516.jpg',\n",
       " '.\\\\0\\\\ScreenShot00517.jpg',\n",
       " '.\\\\0\\\\ScreenShot00520.jpg',\n",
       " '.\\\\0\\\\ScreenShot00526.jpg',\n",
       " '.\\\\0\\\\ScreenShot00528.jpg',\n",
       " '.\\\\0\\\\ScreenShot00529.jpg',\n",
       " '.\\\\0\\\\ScreenShot00531.jpg',\n",
       " '.\\\\0\\\\ScreenShot00535.jpg',\n",
       " '.\\\\0\\\\ScreenShot00536.jpg',\n",
       " '.\\\\0\\\\ScreenShot00542.jpg',\n",
       " '.\\\\0\\\\ScreenShot00543.jpg',\n",
       " '.\\\\0\\\\ScreenShot00547.jpg',\n",
       " '.\\\\0\\\\ScreenShot00550.jpg',\n",
       " '.\\\\0\\\\ScreenShot00552.jpg',\n",
       " '.\\\\0\\\\ScreenShot00553.jpg',\n",
       " '.\\\\0\\\\ScreenShot00554.jpg',\n",
       " '.\\\\0\\\\ScreenShot00556.jpg',\n",
       " '.\\\\0\\\\ScreenShot00557.jpg',\n",
       " '.\\\\0\\\\ScreenShot00558.jpg',\n",
       " '.\\\\0\\\\ScreenShot00559.jpg',\n",
       " '.\\\\0\\\\ScreenShot00560.jpg',\n",
       " '.\\\\0\\\\ScreenShot00562.jpg',\n",
       " '.\\\\0\\\\ScreenShot00563.jpg',\n",
       " '.\\\\0\\\\ScreenShot00565.jpg',\n",
       " '.\\\\0\\\\ScreenShot00566.jpg',\n",
       " '.\\\\0\\\\ScreenShot00572.jpg',\n",
       " '.\\\\0\\\\ScreenShot00573.jpg',\n",
       " '.\\\\0\\\\ScreenShot00574.jpg',\n",
       " '.\\\\0\\\\ScreenShot00575.jpg',\n",
       " '.\\\\0\\\\ScreenShot00576.jpg',\n",
       " '.\\\\0\\\\ScreenShot00578.jpg',\n",
       " '.\\\\0\\\\ScreenShot00582.jpg',\n",
       " '.\\\\0\\\\ScreenShot00583.jpg',\n",
       " '.\\\\0\\\\ScreenShot00588.jpg',\n",
       " '.\\\\0\\\\ScreenShot00594.jpg',\n",
       " '.\\\\0\\\\ScreenShot00596.jpg',\n",
       " '.\\\\0\\\\ScreenShot00635.jpg',\n",
       " '.\\\\0\\\\ScreenShot00642.jpg',\n",
       " '.\\\\0\\\\ScreenShot00644.jpg',\n",
       " '.\\\\0\\\\ScreenShot00646.jpg',\n",
       " '.\\\\0\\\\ScreenShot00651.jpg',\n",
       " '.\\\\0\\\\ScreenShot00657.jpg',\n",
       " '.\\\\0\\\\ScreenShot00690.jpg',\n",
       " '.\\\\0\\\\ScreenShot00698.jpg',\n",
       " '.\\\\0\\\\ScreenShot00723.jpg',\n",
       " '.\\\\0\\\\ScreenShot00724.jpg',\n",
       " '.\\\\0\\\\ScreenShot00725.jpg',\n",
       " '.\\\\0\\\\ScreenShot00726.jpg',\n",
       " '.\\\\0\\\\ScreenShot00765.jpg',\n",
       " '.\\\\0\\\\ScreenShot00766.jpg',\n",
       " '.\\\\0\\\\ScreenShot00774.jpg',\n",
       " '.\\\\0\\\\ScreenShot00783.jpg',\n",
       " '.\\\\0\\\\ScreenShot00804.jpg',\n",
       " '.\\\\0\\\\ScreenShot00805.jpg',\n",
       " '.\\\\0\\\\ScreenShot00806.jpg',\n",
       " '.\\\\0\\\\ScreenShot00812.jpg',\n",
       " '.\\\\0\\\\ScreenShot00865.jpg',\n",
       " '.\\\\0\\\\ScreenShot00886.jpg',\n",
       " '.\\\\0\\\\ScreenShot00887.jpg',\n",
       " '.\\\\0\\\\ScreenShot00888.jpg',\n",
       " '.\\\\0\\\\ScreenShot00896.jpg',\n",
       " '.\\\\0\\\\ScreenShot00897.jpg',\n",
       " '.\\\\0\\\\ScreenShot00898.jpg',\n",
       " '.\\\\0\\\\ScreenShot00899.jpg',\n",
       " '.\\\\0\\\\ScreenShot00907.jpg',\n",
       " '.\\\\0\\\\ScreenShot00908.jpg',\n",
       " '.\\\\0\\\\ScreenShot00909.jpg',\n",
       " '.\\\\0\\\\ScreenShot00910.jpg',\n",
       " '.\\\\0\\\\ScreenShot00912.jpg',\n",
       " '.\\\\0\\\\ScreenShot00913.jpg',\n",
       " '.\\\\0\\\\ScreenShot00914.jpg',\n",
       " '.\\\\0\\\\ScreenShot00915.jpg',\n",
       " '.\\\\0\\\\ScreenShot00916.jpg',\n",
       " '.\\\\0\\\\ScreenShot00917.jpg',\n",
       " '.\\\\0\\\\ScreenShot00918.jpg',\n",
       " '.\\\\0\\\\ScreenShot00920.jpg',\n",
       " '.\\\\0\\\\ScreenShot00921.jpg',\n",
       " '.\\\\0\\\\ScreenShot00925.jpg',\n",
       " '.\\\\0\\\\ScreenShot00927.jpg',\n",
       " '.\\\\0\\\\ScreenShot00928.jpg',\n",
       " '.\\\\0\\\\ScreenShot00929.jpg',\n",
       " '.\\\\0\\\\ScreenShot00930.jpg',\n",
       " '.\\\\0\\\\ScreenShot00931.jpg',\n",
       " '.\\\\0\\\\ScreenShot00932.jpg',\n",
       " '.\\\\0\\\\ScreenShot00933.jpg',\n",
       " '.\\\\0\\\\ScreenShot00934.jpg',\n",
       " '.\\\\0\\\\ScreenShot00935.jpg',\n",
       " '.\\\\0\\\\ScreenShot00941.jpg',\n",
       " '.\\\\0\\\\ScreenShot00942.jpg',\n",
       " '.\\\\0\\\\ScreenShot00943.jpg',\n",
       " '.\\\\0\\\\ScreenShot00944.jpg',\n",
       " '.\\\\0\\\\ScreenShot00945.jpg',\n",
       " '.\\\\0\\\\ScreenShot00946.jpg',\n",
       " '.\\\\0\\\\ScreenShot00948.jpg',\n",
       " '.\\\\0\\\\ScreenShot00949.jpg',\n",
       " '.\\\\0\\\\ScreenShot00950.jpg',\n",
       " '.\\\\0\\\\ScreenShot00951.jpg',\n",
       " '.\\\\0\\\\ScreenShot00952.jpg',\n",
       " '.\\\\0\\\\ScreenShot00953.jpg',\n",
       " '.\\\\0\\\\ScreenShot00955.jpg',\n",
       " '.\\\\0\\\\ScreenShot00956.jpg',\n",
       " '.\\\\0\\\\ScreenShot00957.jpg',\n",
       " '.\\\\0\\\\ScreenShot00958.jpg',\n",
       " '.\\\\0\\\\ScreenShot00959.jpg',\n",
       " '.\\\\0\\\\ScreenShot00960.jpg',\n",
       " '.\\\\0\\\\ScreenShot00961.jpg',\n",
       " '.\\\\0\\\\ScreenShot00962.jpg',\n",
       " '.\\\\0\\\\ScreenShot00963.jpg',\n",
       " '.\\\\0\\\\ScreenShot00964.jpg',\n",
       " '.\\\\0\\\\ScreenShot00965.jpg',\n",
       " '.\\\\0\\\\ScreenShot00966.jpg',\n",
       " '.\\\\0\\\\ScreenShot00968.jpg',\n",
       " '.\\\\0\\\\ScreenShot00969.jpg',\n",
       " '.\\\\0\\\\ScreenShot00970.jpg',\n",
       " '.\\\\0\\\\ScreenShot00973.jpg',\n",
       " '.\\\\0\\\\ScreenShot00975.jpg',\n",
       " '.\\\\0\\\\ScreenShot00976.jpg',\n",
       " '.\\\\0\\\\ScreenShot00977.jpg',\n",
       " '.\\\\0\\\\ScreenShot00978.jpg',\n",
       " '.\\\\0\\\\ScreenShot00979.jpg',\n",
       " '.\\\\0\\\\ScreenShot00980.jpg',\n",
       " '.\\\\0\\\\ScreenShot00981.jpg',\n",
       " '.\\\\0\\\\ScreenShot00982.jpg',\n",
       " '.\\\\0\\\\ScreenShot00983.jpg',\n",
       " '.\\\\0\\\\ScreenShot00984.jpg',\n",
       " '.\\\\0\\\\ScreenShot00985.jpg',\n",
       " '.\\\\0\\\\ScreenShot00986.jpg',\n",
       " '.\\\\0\\\\ScreenShot00987.jpg',\n",
       " '.\\\\0\\\\ScreenShot00988.jpg',\n",
       " '.\\\\0\\\\ScreenShot00989.jpg',\n",
       " '.\\\\0\\\\ScreenShot00990.jpg',\n",
       " '.\\\\0\\\\ScreenShot00991.jpg',\n",
       " '.\\\\0\\\\ScreenShot00992.jpg',\n",
       " '.\\\\0\\\\ScreenShot00993.jpg',\n",
       " '.\\\\0\\\\ScreenShot00994.jpg',\n",
       " '.\\\\0\\\\ScreenShot00995.jpg',\n",
       " '.\\\\0\\\\ScreenShot00996.jpg',\n",
       " '.\\\\0\\\\ScreenShot00997.jpg',\n",
       " '.\\\\0\\\\ScreenShot00998.jpg',\n",
       " '.\\\\0\\\\ScreenShot00999.jpg',\n",
       " '.\\\\0\\\\ScreenShot01000.jpg',\n",
       " '.\\\\0\\\\ScreenShot01001.jpg',\n",
       " '.\\\\0\\\\ScreenShot01002.jpg',\n",
       " '.\\\\0\\\\ScreenShot01005.jpg',\n",
       " '.\\\\0\\\\ScreenShot01006.jpg',\n",
       " '.\\\\0\\\\ScreenShot01007.jpg',\n",
       " '.\\\\0\\\\ScreenShot01008.jpg',\n",
       " '.\\\\0\\\\ScreenShot01009.jpg',\n",
       " '.\\\\0\\\\ScreenShot01010.jpg',\n",
       " '.\\\\0\\\\ScreenShot01011.jpg',\n",
       " '.\\\\0\\\\ScreenShot01012.jpg',\n",
       " '.\\\\0\\\\ScreenShot01013.jpg',\n",
       " '.\\\\0\\\\ScreenShot01014.jpg',\n",
       " '.\\\\0\\\\ScreenShot01015.jpg',\n",
       " '.\\\\0\\\\ScreenShot01016.jpg',\n",
       " '.\\\\0\\\\ScreenShot01017.jpg',\n",
       " '.\\\\0\\\\ScreenShot01020.jpg',\n",
       " '.\\\\0\\\\ScreenShot01021.jpg',\n",
       " '.\\\\0\\\\ScreenShot01022.jpg']"
      ]
     },
     "execution_count": 700,
     "metadata": {},
     "output_type": "execute_result"
    }
   ],
   "source": [
    "path_list_0 = glob.glob('.\\\\0\\\\*')\n",
    "path_list_0"
   ]
  },
  {
   "cell_type": "code",
   "execution_count": 701,
   "metadata": {
    "scrolled": true
   },
   "outputs": [],
   "source": [
    "# path_name_0 = [i.split('\\\\')[-1] for i in path_list_0]\n",
    "# path_name_0"
   ]
  },
  {
   "cell_type": "code",
   "execution_count": 702,
   "metadata": {},
   "outputs": [
    {
     "data": {
      "text/plain": [
       "['0', '1', '2', 'res_0', 'res_1', 'res_2', 'xgb.model', '缺陷分类.ipynb']"
      ]
     },
     "execution_count": 702,
     "metadata": {},
     "output_type": "execute_result"
    }
   ],
   "source": [
    "pwd = glob.glob('*')\n",
    "pwd"
   ]
  },
  {
   "cell_type": "code",
   "execution_count": 703,
   "metadata": {},
   "outputs": [
    {
     "data": {
      "text/plain": [
       "'.\\\\0\\\\ScreenShot00003.jpg'"
      ]
     },
     "execution_count": 703,
     "metadata": {},
     "output_type": "execute_result"
    }
   ],
   "source": [
    "img_name = os.path.join('.\\\\',pwd[0],path_name_0[0])\n",
    "img_name"
   ]
  },
  {
   "cell_type": "code",
   "execution_count": 758,
   "metadata": {},
   "outputs": [],
   "source": [
    "# 0文件夹修改大小\n",
    "count = 1\n",
    "for i in path_list_0:\n",
    "    img_name = i\n",
    "    img = cv2.imread(img_name,0)\n",
    "    # 修改图片大小\n",
    "    img = cv2.resize(img, (32, 32), interpolation=cv2.INTER_CUBIC)\n",
    "    # print(img.shape)\n",
    "    cv2.imwrite('.\\\\res_0\\\\' + str(count) + '.jpg',img)\n",
    "    count += 1\n",
    "    img = np.rot90(img)\n",
    "    cv2.imwrite('.\\\\res_0\\\\' + str(count) + '.jpg',img)\n",
    "    count += 1\n",
    "    img = np.rot90(img)\n",
    "    cv2.imwrite('.\\\\res_0\\\\' + str(count) + '.jpg',img)\n",
    "    count += 1\n",
    "    img = np.rot90(img)\n",
    "    cv2.imwrite('.\\\\res_0\\\\' + str(count) + '.jpg',img)\n",
    "    count += 1"
   ]
  },
  {
   "cell_type": "code",
   "execution_count": 759,
   "metadata": {},
   "outputs": [],
   "source": [
    "# 1文件夹修改大小\n",
    "path_list_1 = glob.glob('.\\\\1\\\\*')\n",
    "path_list_1\n",
    "# count = 1\n",
    "for i in path_list_1:\n",
    "    img_name = i\n",
    "    img = cv2.imread(img_name,0)\n",
    "    # 修改图片大小\n",
    "    img = cv2.resize(img, (32, 32), interpolation=cv2.INTER_CUBIC)\n",
    "    # print(img.shape)\n",
    "    cv2.imwrite('.\\\\res_0\\\\' + str(count) + '.jpg',img)\n",
    "    count += 1\n",
    "    img = np.rot90(img)\n",
    "    cv2.imwrite('.\\\\res_0\\\\' + str(count) + '.jpg',img)\n",
    "    count += 1\n",
    "    img = np.rot90(img)\n",
    "    cv2.imwrite('.\\\\res_0\\\\' + str(count) + '.jpg',img)\n",
    "    count += 1\n",
    "    img = np.rot90(img)\n",
    "    cv2.imwrite('.\\\\res_0\\\\' + str(count) + '.jpg',img)\n",
    "    count += 1"
   ]
  },
  {
   "cell_type": "code",
   "execution_count": 897,
   "metadata": {},
   "outputs": [],
   "source": [
    "# 2文件夹修改大小\n",
    "path_list_1 = glob.glob('.\\\\2\\\\*')\n",
    "path_list_1\n",
    "count = 1\n",
    "for i in path_list_1:\n",
    "    img_name = i\n",
    "    img = cv2.imread(img_name,0)\n",
    "    # 修改图片大小\n",
    "    img = cv2.resize(img, (32, 32), interpolation=cv2.INTER_CUBIC)\n",
    "    # print(img.shape)\n",
    "    cv2.imwrite('.\\\\res_2\\\\' + str(count) + '.jpg',img)\n",
    "    count += 1\n",
    "    cv2.imwrite('.\\\\res_2\\\\' + str(count) + '.jpg',img)\n",
    "    count += 1\n",
    "    cv2.imwrite('.\\\\res_2\\\\' + str(count) + '.jpg',img)\n",
    "    count += 1"
   ]
  },
  {
   "cell_type": "code",
   "execution_count": 898,
   "metadata": {
    "scrolled": true
   },
   "outputs": [],
   "source": [
    "path_list_res_0 = glob.glob('.\\\\res_0\\\\*')\n",
    "# path_list_res_0"
   ]
  },
  {
   "cell_type": "code",
   "execution_count": 899,
   "metadata": {
    "scrolled": false
   },
   "outputs": [
    {
     "data": {
      "text/plain": [
       "array([[17, 17, 23, ..., 16, 21,  0],\n",
       "       [15, 16, 18, ..., 17, 23,  0],\n",
       "       [22, 17, 21, ..., 24, 21,  0],\n",
       "       ...,\n",
       "       [23, 11, 14, ..., 10, 44,  0],\n",
       "       [12, 11, 12, ..., 10, 13,  0],\n",
       "       [44, 10, 14, ..., 11, 23,  0]])"
      ]
     },
     "execution_count": 899,
     "metadata": {},
     "output_type": "execute_result"
    }
   ],
   "source": [
    "# 转换0号对应的数据\n",
    "list2 = []\n",
    "for i in path_list_res_0:\n",
    "    img_name = i\n",
    "    img = cv2.imread(img_name,0)\n",
    "    a1 = np.array(img)\n",
    "    a2 = a1.reshape(1,-1)\n",
    "    list1 = list(a2[0])\n",
    "    list1.append(0)\n",
    "    list2.append(list1)\n",
    "X0 = np.array(list2)\n",
    "X0"
   ]
  },
  {
   "cell_type": "code",
   "execution_count": 900,
   "metadata": {},
   "outputs": [],
   "source": [
    "# 转换1号对应的数据\n",
    "# path_list_res_1 = glob.glob('.\\\\res_1\\\\*')\n",
    "# path_list_res_1\n",
    "# # list2 = []\n",
    "# for i in path_list_res_1:\n",
    "#     img_name = i\n",
    "#     img = cv2.imread(img_name,0)\n",
    "#     a1 = np.array(img)\n",
    "#     a2 = a1.reshape(1,-1)\n",
    "#     list1 = list(a2[0])\n",
    "#     list1.append(1)\n",
    "#     list2.append(list1)\n",
    "# X1 = np.array(list2)\n",
    "# X1"
   ]
  },
  {
   "cell_type": "code",
   "execution_count": 901,
   "metadata": {
    "scrolled": true
   },
   "outputs": [
    {
     "data": {
      "text/plain": [
       "array([[17, 17, 23, ..., 16, 21,  0],\n",
       "       [15, 16, 18, ..., 17, 23,  0],\n",
       "       [22, 17, 21, ..., 24, 21,  0],\n",
       "       ...,\n",
       "       [15, 13, 14, ...,  9, 16,  1],\n",
       "       [15, 13, 14, ...,  9, 16,  1],\n",
       "       [15, 13, 14, ...,  9, 16,  1]])"
      ]
     },
     "execution_count": 901,
     "metadata": {},
     "output_type": "execute_result"
    }
   ],
   "source": [
    "# 转换2号对应的数据\n",
    "path_list_res_2 = glob.glob('.\\\\res_2\\\\*')\n",
    "path_list_res_2\n",
    "# list2 = []\n",
    "for i in path_list_res_2:\n",
    "    img_name = i\n",
    "    img = cv2.imread(img_name,0)\n",
    "    a1 = np.array(img)\n",
    "    a2 = a1.reshape(1,-1)\n",
    "    list1 = list(a2[0])\n",
    "    list1.append(1)\n",
    "    list2.append(list1)\n",
    "X2 = np.array(list2)\n",
    "X2"
   ]
  },
  {
   "cell_type": "code",
   "execution_count": 902,
   "metadata": {},
   "outputs": [
    {
     "data": {
      "text/plain": [
       "(3539, 1025)"
      ]
     },
     "execution_count": 902,
     "metadata": {},
     "output_type": "execute_result"
    }
   ],
   "source": [
    "X2.shape"
   ]
  },
  {
   "cell_type": "code",
   "execution_count": 903,
   "metadata": {},
   "outputs": [
    {
     "data": {
      "text/plain": [
       "array([[17, 17, 23, ..., 16, 21,  0],\n",
       "       [15, 16, 18, ..., 17, 23,  0],\n",
       "       [22, 17, 21, ..., 24, 21,  0],\n",
       "       ...,\n",
       "       [15, 13, 14, ...,  9, 16,  1],\n",
       "       [15, 13, 14, ...,  9, 16,  1],\n",
       "       [15, 13, 14, ...,  9, 16,  1]])"
      ]
     },
     "execution_count": 903,
     "metadata": {},
     "output_type": "execute_result"
    }
   ],
   "source": [
    "def minus_min(x):\n",
    "    s = x[:, :-1]\n",
    "    for i in s:\n",
    "        i -= 0\n",
    "    return x\n",
    "X = minus_min(X2)\n",
    "X"
   ]
  },
  {
   "cell_type": "code",
   "execution_count": 904,
   "metadata": {},
   "outputs": [
    {
     "data": {
      "text/plain": [
       "(3539, 1025)"
      ]
     },
     "execution_count": 904,
     "metadata": {},
     "output_type": "execute_result"
    }
   ],
   "source": [
    "X.shape"
   ]
  },
  {
   "cell_type": "code",
   "execution_count": 905,
   "metadata": {},
   "outputs": [],
   "source": [
    "from sklearn.model_selection import train_test_split\n",
    "import xgboost as xgb\n",
    "from sklearn.metrics import mean_squared_error\n",
    "from sklearn.decomposition import TruncatedSVD\n",
    "from sklearn.metrics import f1_score,precision_score,recall_score,accuracy_score"
   ]
  },
  {
   "cell_type": "code",
   "execution_count": 906,
   "metadata": {},
   "outputs": [
    {
     "name": "stdout",
     "output_type": "stream",
     "text": [
      "训练数据样本数量：3185,测试样本数量：354\n"
     ]
    }
   ],
   "source": [
    "x_train, x_test, y_train, y_test = train_test_split(X[:,:-1], X[:,-1], \n",
    "                                                    test_size = 0.1, random_state = 28)\n",
    "print('训练数据样本数量：{0},测试样本数量：{1}'.format(x_train.shape[0], x_test.shape[0]))"
   ]
  },
  {
   "cell_type": "code",
   "execution_count": 907,
   "metadata": {},
   "outputs": [
    {
     "data": {
      "text/plain": [
       "(3185, 1024)"
      ]
     },
     "execution_count": 907,
     "metadata": {},
     "output_type": "execute_result"
    }
   ],
   "source": [
    "x_train.shape"
   ]
  },
  {
   "cell_type": "code",
   "execution_count": 908,
   "metadata": {},
   "outputs": [],
   "source": [
    "# from sklearn.decomposition import PCA\n",
    "# pca = PCA(n_components = 64)\n",
    "# pca.fit(x_train)\n",
    "# print(pca.mean_)\n",
    "# print(pca.components_)\n",
    "# x_train = pca.transform(x_train)\n",
    "# pca.fit(x_test)\n",
    "# x_test = pca.transform(x_test)"
   ]
  },
  {
   "cell_type": "code",
   "execution_count": 909,
   "metadata": {},
   "outputs": [],
   "source": [
    "# 将数据转为CGBoost可用的数据类型\n",
    "dtrain = xgb.DMatrix(x_train, label = y_train)\n",
    "dtest = xgb.DMatrix(x_test)"
   ]
  },
  {
   "cell_type": "code",
   "execution_count": 910,
   "metadata": {
    "scrolled": true
   },
   "outputs": [
    {
     "name": "stdout",
     "output_type": "stream",
     "text": [
      "[15:09:29] d:\\build\\xgboost\\xgboost-0.80.git\\src\\tree\\updater_prune.cc:74: tree pruning end, 1 roots, 160 extra nodes, 2 pruned nodes, max_depth=23\n",
      "[15:09:29] d:\\build\\xgboost\\xgboost-0.80.git\\src\\tree\\updater_prune.cc:74: tree pruning end, 1 roots, 152 extra nodes, 0 pruned nodes, max_depth=23\n",
      "[15:09:29] d:\\build\\xgboost\\xgboost-0.80.git\\src\\tree\\updater_prune.cc:74: tree pruning end, 1 roots, 160 extra nodes, 2 pruned nodes, max_depth=17\n",
      "[15:09:29] d:\\build\\xgboost\\xgboost-0.80.git\\src\\tree\\updater_prune.cc:74: tree pruning end, 1 roots, 150 extra nodes, 2 pruned nodes, max_depth=19\n",
      "[15:09:29] d:\\build\\xgboost\\xgboost-0.80.git\\src\\tree\\updater_prune.cc:74: tree pruning end, 1 roots, 152 extra nodes, 0 pruned nodes, max_depth=18\n",
      "[15:09:29] d:\\build\\xgboost\\xgboost-0.80.git\\src\\tree\\updater_prune.cc:74: tree pruning end, 1 roots, 148 extra nodes, 2 pruned nodes, max_depth=21\n",
      "[15:09:29] d:\\build\\xgboost\\xgboost-0.80.git\\src\\tree\\updater_prune.cc:74: tree pruning end, 1 roots, 142 extra nodes, 2 pruned nodes, max_depth=22\n",
      "[15:09:29] d:\\build\\xgboost\\xgboost-0.80.git\\src\\tree\\updater_prune.cc:74: tree pruning end, 1 roots, 158 extra nodes, 2 pruned nodes, max_depth=18\n",
      "[15:09:29] d:\\build\\xgboost\\xgboost-0.80.git\\src\\tree\\updater_prune.cc:74: tree pruning end, 1 roots, 148 extra nodes, 2 pruned nodes, max_depth=25\n",
      "[15:09:29] d:\\build\\xgboost\\xgboost-0.80.git\\src\\tree\\updater_prune.cc:74: tree pruning end, 1 roots, 144 extra nodes, 2 pruned nodes, max_depth=19\n",
      "[15:09:30] d:\\build\\xgboost\\xgboost-0.80.git\\src\\tree\\updater_prune.cc:74: tree pruning end, 1 roots, 142 extra nodes, 0 pruned nodes, max_depth=19\n",
      "[15:09:30] d:\\build\\xgboost\\xgboost-0.80.git\\src\\tree\\updater_prune.cc:74: tree pruning end, 1 roots, 140 extra nodes, 2 pruned nodes, max_depth=20\n",
      "[15:09:30] d:\\build\\xgboost\\xgboost-0.80.git\\src\\tree\\updater_prune.cc:74: tree pruning end, 1 roots, 138 extra nodes, 0 pruned nodes, max_depth=24\n",
      "[15:09:30] d:\\build\\xgboost\\xgboost-0.80.git\\src\\tree\\updater_prune.cc:74: tree pruning end, 1 roots, 148 extra nodes, 0 pruned nodes, max_depth=21\n",
      "[15:09:30] d:\\build\\xgboost\\xgboost-0.80.git\\src\\tree\\updater_prune.cc:74: tree pruning end, 1 roots, 158 extra nodes, 0 pruned nodes, max_depth=20\n",
      "[15:09:30] d:\\build\\xgboost\\xgboost-0.80.git\\src\\tree\\updater_prune.cc:74: tree pruning end, 1 roots, 146 extra nodes, 0 pruned nodes, max_depth=19\n"
     ]
    }
   ],
   "source": [
    "# XGBoost构建模型\n",
    "# 1，参数设定\n",
    "params={\n",
    "'booster':'gbtree',\n",
    "'objective':'multi:softmax',\n",
    "# 'booster':'gblinear',\n",
    "# 'objective': 'reg:logistic', #二分类的问题\n",
    "'num_class':2, # 分类个数\n",
    "'gamma':0.1,  # 用于控制是否后剪枝的参数,越大越保守，一般0.1、0.2这样子。\n",
    "'max_depth':30, # 构建树的深度，越大越容易过拟合\n",
    "'lambda':4,  # 控制模型复杂度的权重值的L2正则化项参数，参数越大，模型越不容易过拟合。\n",
    "'subsample':0.8, # 随机采样训练样本\n",
    "'colsample_bytree':0.8, # 生成树时进行的列采样\n",
    "'min_child_weight':3,\n",
    "# 这个参数默认是 1，是每个叶子里面 h 的和至少是多少，对正负样本不均衡时的 0-1 分类而言\n",
    "#，假设 h 在 0.01 附近，min_child_weight 为 1 意味着叶子节点中最少需要包含 100 个样本。\n",
    "#这个参数非常影响结果，控制叶子节点中二阶导的和的最小值，该参数值越小，越容易 overfitting。\n",
    "'silent':0 ,#设置成1则没有运行信息输出，最好是设置为0.\n",
    "'eta': 0.0001, # 如同学习率\n",
    "'seed':5000\n",
    "# 'nthread':7,# cpu 线程数\n",
    "#'eval_metric': 'auc'\n",
    "}\n",
    "num_round = 8\n",
    "# 2，模型训练\n",
    "bst = xgb.train(params, dtrain, num_round)\n",
    "# 3，模型保存\n",
    "bst.save_model('xgb.model')"
   ]
  },
  {
   "cell_type": "code",
   "execution_count": 911,
   "metadata": {},
   "outputs": [
    {
     "name": "stdout",
     "output_type": "stream",
     "text": [
      "0.05084745762711865\n",
      "训练集准确率为:99.78021978021978%\n"
     ]
    }
   ],
   "source": [
    "# XGBoost模型预测\n",
    "y_pred = bst.predict(dtest)\n",
    "print(mean_squared_error(y_pred, y_test))\n",
    "dtrain1 = xgb.DMatrix(x_train)\n",
    "y_pred1 = bst.predict(dtrain1)\n",
    "print(\"训练集准确率为:{}%\" .format(accuracy_score(y_train, y_pred1)*100))"
   ]
  },
  {
   "cell_type": "code",
   "execution_count": 912,
   "metadata": {},
   "outputs": [
    {
     "name": "stdout",
     "output_type": "stream",
     "text": [
      "0.05084745762711865\n",
      "[1. 0. 0. 0. 0. 1. 0. 0. 1. 0. 0. 0. 0. 0. 0. 0. 1. 0. 0. 1. 0. 1. 0. 1.\n",
      " 0. 0. 0. 0. 1. 0. 1. 0. 1. 0. 0. 0. 1. 1. 0. 0. 0. 1. 0. 1. 0. 1. 0. 1.\n",
      " 0. 1. 1. 1. 0. 0. 0. 0. 0. 0. 1. 0. 1. 0. 0. 0. 0. 0. 1. 0. 0. 1. 1. 0.\n",
      " 0. 0. 1. 0. 0. 0. 1. 1. 1. 1. 0. 0. 1. 0. 1. 1. 0. 1. 0. 1. 1. 0. 0. 0.\n",
      " 1. 0. 0. 1. 0. 1. 0. 1. 0. 0. 1. 0. 0. 1. 0. 1. 1. 0. 1. 0. 0. 1. 0. 0.\n",
      " 0. 0. 0. 1. 0. 0. 0. 1. 0. 1. 0. 0. 1. 0. 0. 0. 1. 0. 1. 0. 1. 0. 1. 0.\n",
      " 1. 1. 1. 0. 0. 0. 0. 0. 0. 0. 0. 0. 1. 1. 0. 0. 1. 0. 0. 0. 1. 0. 0. 0.\n",
      " 0. 0. 1. 0. 0. 1. 1. 0. 0. 0. 0. 0. 0. 0. 0. 1. 1. 1. 0. 0. 0. 1. 1. 0.\n",
      " 1. 0. 0. 1. 0. 0. 0. 1. 0. 0. 0. 0. 0. 0. 0. 1. 0. 1. 0. 0. 0. 0. 0. 0.\n",
      " 0. 0. 0. 1. 0. 0. 0. 1. 0. 0. 1. 1. 0. 0. 0. 1. 0. 0. 0. 1. 1. 0. 0. 1.\n",
      " 1. 0. 1. 0. 0. 0. 0. 0. 1. 1. 0. 1. 1. 0. 0. 1. 0. 1. 1. 1. 1. 0. 1. 1.\n",
      " 1. 1. 0. 0. 0. 0. 1. 0. 1. 1. 0. 0. 0. 0. 1. 1. 0. 1. 0. 1. 1. 0. 0. 0.\n",
      " 0. 0. 0. 0. 0. 0. 1. 1. 0. 1. 0. 0. 0. 0. 1. 1. 0. 1. 0. 0. 0. 1. 0. 0.\n",
      " 0. 0. 0. 1. 1. 0. 0. 0. 0. 0. 0. 0. 1. 1. 1. 1. 0. 1. 0. 0. 0. 0. 1. 0.\n",
      " 0. 1. 0. 1. 0. 0. 0. 0. 1. 0. 1. 1. 1. 0. 1. 1. 0. 1.]\n"
     ]
    }
   ],
   "source": [
    "# 4.加载模型\n",
    "bst2 = xgb.Booster()\n",
    "bst2.load_model('xgb.model')\n",
    "# 5，使用加载模型进行预测\n",
    "y_pred2 = bst2.predict(dtest)\n",
    "print(mean_squared_error(y_pred2, y_test))\n",
    "print(y_pred2)"
   ]
  },
  {
   "cell_type": "code",
   "execution_count": 913,
   "metadata": {},
   "outputs": [
    {
     "name": "stdout",
     "output_type": "stream",
     "text": [
      "测试集准确率为:94.91525%\n",
      "精准率为:0.90625\n",
      "召回率为:0.95082\n",
      "F1值为:0.92800\n"
     ]
    }
   ],
   "source": [
    "# 效果评估\n",
    "print(\"测试集准确率为:{}%\" .format( round(accuracy_score(y_test, y_pred2)*100,5)))\n",
    "print(\"精准率为:%.5f\" % precision_score(y_test, y_pred2))\n",
    "print(\"召回率为:%.5f\" % recall_score(y_test, y_pred2))\n",
    "print(\"F1值为:%.5f\" % f1_score(y_test, y_pred2))"
   ]
  },
  {
   "cell_type": "code",
   "execution_count": 915,
   "metadata": {
    "scrolled": true
   },
   "outputs": [],
   "source": [
    "# 看看那些出错了\n",
    "for i in range(len(y_test)):\n",
    "    if y_test[i] != y_pred2[i]:\n",
    "        s = x_test[i]\n",
    "        s.shape = (32, 32)\n",
    "        cv2.imwrite('.\\\\res\\\\' + str(i) + '.jpg',s)"
   ]
  },
  {
   "cell_type": "code",
   "execution_count": null,
   "metadata": {},
   "outputs": [],
   "source": []
  },
  {
   "cell_type": "code",
   "execution_count": null,
   "metadata": {},
   "outputs": [],
   "source": []
  },
  {
   "cell_type": "code",
   "execution_count": null,
   "metadata": {},
   "outputs": [],
   "source": []
  }
 ],
 "metadata": {
  "kernelspec": {
   "display_name": "Python 3",
   "language": "python",
   "name": "python3"
  },
  "language_info": {
   "codemirror_mode": {
    "name": "ipython",
    "version": 3
   },
   "file_extension": ".py",
   "mimetype": "text/x-python",
   "name": "python",
   "nbconvert_exporter": "python",
   "pygments_lexer": "ipython3",
   "version": "3.6.6"
  }
 },
 "nbformat": 4,
 "nbformat_minor": 2
}
